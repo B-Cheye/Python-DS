{
 "cells": [
  {
   "cell_type": "markdown",
   "metadata": {},
   "source": [
    "## Python problems for beginners"
   ]
  },
  {
   "cell_type": "markdown",
   "metadata": {},
   "source": [
    "## Problem 1 Triangle\n",
    "\n",
    "Write a simple program that demonstrate star pattern in Python 3.x for any n:\n",
    "\n",
    "Example n=5\n",
    "\n",
    "    * \n",
    "    * * \n",
    "    * * * \n",
    "    * * * * \n",
    "    * * * * * "
   ]
  },
  {
   "cell_type": "code",
   "execution_count": 20,
   "metadata": {},
   "outputs": [
    {
     "name": "stdout",
     "output_type": "stream",
     "text": [
      "\n",
      "* \n",
      "* * \n",
      "* * * \n",
      "* * * * \n",
      "* * * * * \n"
     ]
    }
   ],
   "source": [
    "n = 5\n",
    "\n",
    "for i in range(0, n+1):\n",
    "    print('* ' * i)"
   ]
  },
  {
   "cell_type": "code",
   "execution_count": 22,
   "metadata": {},
   "outputs": [
    {
     "name": "stdout",
     "output_type": "stream",
     "text": [
      "7\n"
     ]
    }
   ],
   "source": [
    "n = n +2\n",
    "print(n)"
   ]
  },
  {
   "cell_type": "code",
   "execution_count": 33,
   "metadata": {},
   "outputs": [
    {
     "name": "stdout",
     "output_type": "stream",
     "text": [
      "ddd"
     ]
    }
   ],
   "source": [
    "for x in ['a', 's', 'd']:\n",
    "    print('d', end='')"
   ]
  },
  {
   "cell_type": "code",
   "execution_count": 31,
   "metadata": {},
   "outputs": [
    {
     "data": {
      "text/plain": [
       "[3, 6, 9]"
      ]
     },
     "execution_count": 31,
     "metadata": {},
     "output_type": "execute_result"
    }
   ],
   "source": [
    "list(range(3,10,3))"
   ]
  },
  {
   "cell_type": "markdown",
   "metadata": {},
   "source": [
    "## Problem 2 Triangle with numbers\n",
    "\n",
    "Write a simple program that demonstrate triangle (with numbers 0..n per line) in Python 3.x for any n:\n",
    "\n",
    "Example n=4\n",
    "\n",
    "    1 \n",
    "    1 2 \n",
    "    1 2 3 \n",
    "    1 2 3 4"
   ]
  },
  {
   "cell_type": "code",
   "execution_count": 38,
   "metadata": {},
   "outputs": [
    {
     "name": "stdout",
     "output_type": "stream",
     "text": [
      "x\n",
      "\n",
      "x\n",
      "y\n",
      "1 \n",
      "x\n",
      "y\n",
      "1 y\n",
      "2 \n",
      "x\n",
      "y\n",
      "1 y\n",
      "2 y\n",
      "3 \n",
      "x\n",
      "y\n",
      "1 y\n",
      "2 y\n",
      "3 y\n",
      "4 \n"
     ]
    }
   ],
   "source": [
    "n = 4\n",
    "\n",
    "for i in range(0, n+1):\n",
    "    for j in range(1, i + 1):\n",
    "        print(j, end=' ')\n",
    "    print()"
   ]
  },
  {
   "cell_type": "markdown",
   "metadata": {},
   "source": [
    "## Homework 1 Triangle with letters    \n",
    "\n",
    "Write a simple program that demonstrate triangle (with consequtive letters) in Python 3.x for any n:\n",
    "\n",
    "Example n=4\n",
    "\n",
    "    A \n",
    "    B C \n",
    "    D E F \n",
    "    G H I J \n",
    "    K L M N O "
   ]
  },
  {
   "cell_type": "markdown",
   "metadata": {},
   "source": [
    "## Homework 2 Diagonal of numbers\n",
    "\n",
    "Write a simple program that demonstrate diagonal pattern in Python 3.x for any n:\n",
    "\n",
    "Example n=4\n",
    "\n",
    "    0\n",
    "     1\n",
    "      2\n",
    "       3\n",
    "        4"
   ]
  },
  {
   "cell_type": "markdown",
   "metadata": {},
   "source": [
    "## Homework 3 Pyramid\n",
    "\n",
    "Write a simple program that demonstrate pyramid pattern in Python 3.x for any n:\n",
    "\n",
    "Example n=3\n",
    "\n",
    "        * \n",
    "      * * * \n",
    "    * * * * * "
   ]
  },
  {
   "cell_type": "code",
   "execution_count": null,
   "metadata": {},
   "outputs": [],
   "source": [
    "0 - 1\n",
    "1 - 3\n",
    "2 - 5\n",
    "\n",
    "2 * i + 1"
   ]
  },
  {
   "cell_type": "code",
   "execution_count": 64,
   "metadata": {},
   "outputs": [
    {
     "name": "stdout",
     "output_type": "stream",
     "text": [
      "    *    \n",
      "  * * *  \n",
      "* * * * * \n"
     ]
    }
   ],
   "source": [
    "n = 3\n",
    "\n",
    "for i in range(n):\n",
    "    row = '* ' * (2 * i + 1) # calc the * for a given row based formula\n",
    "    print(row.center(n * 3))"
   ]
  },
  {
   "cell_type": "code",
   "execution_count": 70,
   "metadata": {},
   "outputs": [
    {
     "name": "stdout",
     "output_type": "stream",
     "text": [
      "    *\n",
      "   ***\n",
      "  *****\n",
      " *******\n",
      "*********\n"
     ]
    }
   ],
   "source": [
    "n = 5\n",
    "\n",
    "for i in range(n):\n",
    "    print( ' ' * (n-i-1), end='')\n",
    "    print('*' * (2 * i + 1))"
   ]
  }
 ],
 "metadata": {
  "kernelspec": {
   "display_name": "Python 3",
   "language": "python",
   "name": "python3"
  },
  "language_info": {
   "codemirror_mode": {
    "name": "ipython",
    "version": 3
   },
   "file_extension": ".py",
   "mimetype": "text/x-python",
   "name": "python",
   "nbconvert_exporter": "python",
   "pygments_lexer": "ipython3",
   "version": "3.6.7"
  }
 },
 "nbformat": 4,
 "nbformat_minor": 2
}
