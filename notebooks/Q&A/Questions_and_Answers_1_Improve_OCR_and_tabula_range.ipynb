{
 "cells": [
  {
   "cell_type": "markdown",
   "metadata": {},
   "source": [
    "## Questions and Answers 2 Improve OCR and tabula range"
   ]
  },
  {
   "cell_type": "markdown",
   "metadata": {},
   "source": [
    "## Question 1\n",
    "\n",
    "#### Extract tabular data from PDF with Python - Tabula, Camelot, PyPDF2\n",
    "\n",
    "https://youtu.be/702lkQbZx50\n",
    "\n",
    "![Question 1](../images/Selection_177.png)\n",
    "\n"
   ]
  },
  {
   "cell_type": "code",
   "execution_count": 1,
   "metadata": {},
   "outputs": [
    {
     "data": {
      "text/plain": [
       "(29, 4)"
      ]
     },
     "execution_count": 1,
     "metadata": {},
     "output_type": "execute_result"
    }
   ],
   "source": [
    "from tabula import read_pdf\n",
    "df = read_pdf(\"http://www.uncledavesenterprise.com/file/health/Food%20Calories%20List.pdf\", pages=3)\n",
    "df.shape"
   ]
  },
  {
   "cell_type": "code",
   "execution_count": 2,
   "metadata": {},
   "outputs": [
    {
     "data": {
      "text/plain": [
       "(69, 5)"
      ]
     },
     "execution_count": 2,
     "metadata": {},
     "output_type": "execute_result"
    }
   ],
   "source": [
    "# specify page range 1 to 3 page\n",
    "df = read_pdf(\"http://www.uncledavesenterprise.com/file/health/Food%20Calories%20List.pdf\", pages='1-3')\n",
    "df.shape"
   ]
  },
  {
   "cell_type": "code",
   "execution_count": 3,
   "metadata": {},
   "outputs": [
    {
     "data": {
      "text/html": [
       "<div>\n",
       "<style scoped>\n",
       "    .dataframe tbody tr th:only-of-type {\n",
       "        vertical-align: middle;\n",
       "    }\n",
       "\n",
       "    .dataframe tbody tr th {\n",
       "        vertical-align: top;\n",
       "    }\n",
       "\n",
       "    .dataframe thead th {\n",
       "        text-align: right;\n",
       "    }\n",
       "</style>\n",
       "<table border=\"1\" class=\"dataframe\">\n",
       "  <thead>\n",
       "    <tr style=\"text-align: right;\">\n",
       "      <th></th>\n",
       "      <th>BREADS &amp; CEREALS</th>\n",
       "      <th>Portion size *</th>\n",
       "      <th>per 100 grams (3.5 oz)</th>\n",
       "      <th>Unnamed: 3</th>\n",
       "      <th>energy content</th>\n",
       "    </tr>\n",
       "  </thead>\n",
       "  <tbody>\n",
       "    <tr>\n",
       "      <th>0</th>\n",
       "      <td>Bagel ( 1 average )</td>\n",
       "      <td>140 cals (45g)</td>\n",
       "      <td>310 cals</td>\n",
       "      <td>NaN</td>\n",
       "      <td>Medium</td>\n",
       "    </tr>\n",
       "    <tr>\n",
       "      <th>1</th>\n",
       "      <td>Biscuit digestives</td>\n",
       "      <td>86 cals (per biscuit)</td>\n",
       "      <td>480 cals</td>\n",
       "      <td>NaN</td>\n",
       "      <td>High</td>\n",
       "    </tr>\n",
       "    <tr>\n",
       "      <th>2</th>\n",
       "      <td>Jaffa cake</td>\n",
       "      <td>48 cals (per biscuit)</td>\n",
       "      <td>370 cals</td>\n",
       "      <td>NaN</td>\n",
       "      <td>Med-High</td>\n",
       "    </tr>\n",
       "    <tr>\n",
       "      <th>3</th>\n",
       "      <td>Bread white (thick slice)</td>\n",
       "      <td>96  cals (1 slice 40g)</td>\n",
       "      <td>240 cals</td>\n",
       "      <td>NaN</td>\n",
       "      <td>Medium</td>\n",
       "    </tr>\n",
       "    <tr>\n",
       "      <th>4</th>\n",
       "      <td>Bread wholemeal (thick)</td>\n",
       "      <td>88  cals (1 slice 40g)</td>\n",
       "      <td>220 cals</td>\n",
       "      <td>NaN</td>\n",
       "      <td>Low-med</td>\n",
       "    </tr>\n",
       "  </tbody>\n",
       "</table>\n",
       "</div>"
      ],
      "text/plain": [
       "            BREADS & CEREALS          Portion size * per 100 grams (3.5 oz)  \\\n",
       "0        Bagel ( 1 average )          140 cals (45g)               310 cals   \n",
       "1         Biscuit digestives   86 cals (per biscuit)               480 cals   \n",
       "2                 Jaffa cake   48 cals (per biscuit)               370 cals   \n",
       "3  Bread white (thick slice)  96  cals (1 slice 40g)               240 cals   \n",
       "4    Bread wholemeal (thick)  88  cals (1 slice 40g)               220 cals   \n",
       "\n",
       "  Unnamed: 3 energy content  \n",
       "0        NaN         Medium  \n",
       "1        NaN           High  \n",
       "2        NaN       Med-High  \n",
       "3        NaN         Medium  \n",
       "4        NaN        Low-med  "
      ]
     },
     "execution_count": 3,
     "metadata": {},
     "output_type": "execute_result"
    }
   ],
   "source": [
    "df.head()"
   ]
  },
  {
   "cell_type": "code",
   "execution_count": 4,
   "metadata": {},
   "outputs": [
    {
     "data": {
      "text/html": [
       "<div>\n",
       "<style scoped>\n",
       "    .dataframe tbody tr th:only-of-type {\n",
       "        vertical-align: middle;\n",
       "    }\n",
       "\n",
       "    .dataframe tbody tr th {\n",
       "        vertical-align: top;\n",
       "    }\n",
       "\n",
       "    .dataframe thead th {\n",
       "        text-align: right;\n",
       "    }\n",
       "</style>\n",
       "<table border=\"1\" class=\"dataframe\">\n",
       "  <thead>\n",
       "    <tr style=\"text-align: right;\">\n",
       "      <th></th>\n",
       "      <th>BREADS &amp; CEREALS</th>\n",
       "      <th>Portion size *</th>\n",
       "      <th>per 100 grams (3.5 oz)</th>\n",
       "      <th>Unnamed: 3</th>\n",
       "      <th>energy content</th>\n",
       "    </tr>\n",
       "  </thead>\n",
       "  <tbody>\n",
       "    <tr>\n",
       "      <th>64</th>\n",
       "      <td>Sausage pork fried</td>\n",
       "      <td>250 cals</td>\n",
       "      <td>320 cals</td>\n",
       "      <td>High</td>\n",
       "      <td>NaN</td>\n",
       "    </tr>\n",
       "    <tr>\n",
       "      <th>65</th>\n",
       "      <td>Sausage pork grilled</td>\n",
       "      <td>220 cals</td>\n",
       "      <td>280 cals</td>\n",
       "      <td>Med-High</td>\n",
       "      <td>NaN</td>\n",
       "    </tr>\n",
       "    <tr>\n",
       "      <th>66</th>\n",
       "      <td>Sausage roll</td>\n",
       "      <td>290 cals</td>\n",
       "      <td>480 cals</td>\n",
       "      <td>High</td>\n",
       "      <td>NaN</td>\n",
       "    </tr>\n",
       "    <tr>\n",
       "      <th>67</th>\n",
       "      <td>Scampi fried in oil</td>\n",
       "      <td>400 cals</td>\n",
       "      <td>340 cals</td>\n",
       "      <td>High</td>\n",
       "      <td>NaN</td>\n",
       "    </tr>\n",
       "    <tr>\n",
       "      <th>68</th>\n",
       "      <td>Steak &amp; kidney pie</td>\n",
       "      <td>400 cals</td>\n",
       "      <td>350 cals</td>\n",
       "      <td>High</td>\n",
       "      <td>NaN</td>\n",
       "    </tr>\n",
       "  </tbody>\n",
       "</table>\n",
       "</div>"
      ],
      "text/plain": [
       "        BREADS & CEREALS Portion size * per 100 grams (3.5 oz) Unnamed: 3  \\\n",
       "64    Sausage pork fried       250 cals               320 cals       High   \n",
       "65  Sausage pork grilled       220 cals               280 cals   Med-High   \n",
       "66          Sausage roll       290 cals               480 cals       High   \n",
       "67   Scampi fried in oil       400 cals               340 cals       High   \n",
       "68    Steak & kidney pie       400 cals               350 cals       High   \n",
       "\n",
       "   energy content  \n",
       "64            NaN  \n",
       "65            NaN  \n",
       "66            NaN  \n",
       "67            NaN  \n",
       "68            NaN  "
      ]
     },
     "execution_count": 4,
     "metadata": {},
     "output_type": "execute_result"
    }
   ],
   "source": [
    "df.tail()"
   ]
  },
  {
   "cell_type": "code",
   "execution_count": 5,
   "metadata": {},
   "outputs": [
    {
     "data": {
      "text/plain": [
       "(69, 5)"
      ]
     },
     "execution_count": 5,
     "metadata": {},
     "output_type": "execute_result"
    }
   ],
   "source": [
    "# create page range 1 to 3 page\n",
    "pages=(str(1)+'-'+str(3))\n",
    "df = read_pdf(\"http://www.uncledavesenterprise.com/file/health/Food%20Calories%20List.pdf\", pages=pages)\n",
    "df.shape"
   ]
  },
  {
   "cell_type": "code",
   "execution_count": 6,
   "metadata": {},
   "outputs": [
    {
     "data": {
      "text/plain": [
       "(69, 5)"
      ]
     },
     "execution_count": 6,
     "metadata": {},
     "output_type": "execute_result"
    }
   ],
   "source": [
    "# list all possible pages\n",
    "df = read_pdf(\"http://www.uncledavesenterprise.com/file/health/Food%20Calories%20List.pdf\", pages=[1,2,3])\n",
    "df.shape"
   ]
  },
  {
   "cell_type": "code",
   "execution_count": 7,
   "metadata": {},
   "outputs": [
    {
     "data": {
      "text/plain": [
       "(69, 5)"
      ]
     },
     "execution_count": 7,
     "metadata": {},
     "output_type": "execute_result"
    }
   ],
   "source": [
    "# list all possible pages using range\n",
    "pages = list(range(1, 4))\n",
    "df = read_pdf(\"http://www.uncledavesenterprise.com/file/health/Food%20Calories%20List.pdf\", pages=pages)\n",
    "df.shape"
   ]
  },
  {
   "cell_type": "markdown",
   "metadata": {},
   "source": [
    "## Question 2\n",
    "\n",
    "#### python extract text from image or pdf\n",
    "\n",
    "https://youtu.be/PK-GvWWQ03g\n",
    "\n",
    "![Question ](../images/Selection_178.png)\n",
    "\n",
    "python extract text from image or pdf\n",
    "\n",
    "https://blog.softhints.com/python-extract-text-from-image-or-pdf/\n",
    "\n",
    "Improve OCR Accuracy With Advanced Image Preprocessing\n",
    "\n",
    "https://docparser.com/blog/improve-ocr-accuracy/"
   ]
  },
  {
   "cell_type": "markdown",
   "metadata": {},
   "source": [
    "![Question ](../images/Selection_174.png)\n"
   ]
  },
  {
   "cell_type": "code",
   "execution_count": 8,
   "metadata": {},
   "outputs": [],
   "source": [
    "from PIL import Image\n",
    "import pytesseract"
   ]
  },
  {
   "cell_type": "code",
   "execution_count": 9,
   "metadata": {},
   "outputs": [
    {
     "name": "stdout",
     "output_type": "stream",
     "text": [
      "Java\n",
      "\n",
      "Python\n",
      "\n",
      "public class JavaPyramid1 {\n",
      "public static void main(String[] args) {\n",
      "for(int i=1; i<=5; i++) {\n",
      "for(int j=0; j<i; j++) {\n",
      "System.out.print(\"*\");\n",
      "\n",
      "//generate a new line\n",
      "System.out.printin(\"\");\n",
      "\n",
      "def create_pyramid(rows) :\n",
      "for i in range(rows) :\n",
      "print('*' * (i+1))\n"
     ]
    }
   ],
   "source": [
    "im = Image.open(\"../images/Selection_174.png\")\n",
    "text = pytesseract.image_to_string(im)\n",
    "print(text)"
   ]
  },
  {
   "cell_type": "markdown",
   "metadata": {},
   "source": [
    "![Question ](../images/Selection_171.png)"
   ]
  },
  {
   "cell_type": "code",
   "execution_count": 10,
   "metadata": {},
   "outputs": [
    {
     "name": "stdout",
     "output_type": "stream",
     "text": [
      "* def create_pyramid(rows) :\n",
      "* — for i in range(rows) :\n",
      "*      print(’*' * (i+1))\n"
     ]
    }
   ],
   "source": [
    "# How to get spaces and indentation\n",
    "\n",
    "im = Image.open(\"../images/Selection_171.png\")\n",
    "text = pytesseract.image_to_string(im, config='-c preserve_interword_spaces=1')\n",
    "print(text)"
   ]
  },
  {
   "cell_type": "code",
   "execution_count": 11,
   "metadata": {},
   "outputs": [],
   "source": [
    "# Improve OCR - change the image size\n",
    "\n",
    "s = im.size\n",
    "im.show()\n",
    "newimg = im.resize((s[0]*2, s[1]*2), Image.ANTIALIAS)\n",
    "newimg.show()"
   ]
  },
  {
   "cell_type": "code",
   "execution_count": 13,
   "metadata": {},
   "outputs": [],
   "source": [
    "# Improve OCR - change the contrast\n",
    "\n",
    "from PIL import Image, ImageEnhance\n",
    "\n",
    "contrast = ImageEnhance.Contrast(im)\n",
    "im.show()\n"
   ]
  },
  {
   "cell_type": "code",
   "execution_count": 14,
   "metadata": {},
   "outputs": [],
   "source": [
    "# Improve OCR - convert to black and white\n",
    "\n",
    "black_white = im.convert('1') # convert image to black and white\n",
    "black_white.show()"
   ]
  },
  {
   "cell_type": "code",
   "execution_count": null,
   "metadata": {},
   "outputs": [],
   "source": []
  }
 ],
 "metadata": {
  "kernelspec": {
   "display_name": "Python 3",
   "language": "python",
   "name": "python3"
  },
  "language_info": {
   "codemirror_mode": {
    "name": "ipython",
    "version": 3
   },
   "file_extension": ".py",
   "mimetype": "text/x-python",
   "name": "python",
   "nbconvert_exporter": "python",
   "pygments_lexer": "ipython3",
   "version": "3.6.7"
  }
 },
 "nbformat": 4,
 "nbformat_minor": 2
}
